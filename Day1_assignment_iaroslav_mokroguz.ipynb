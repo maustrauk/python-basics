{
 "cells": [
  {
   "cell_type": "markdown",
   "id": "bc607a48",
   "metadata": {},
   "source": [
    "2.Write a script that can ceil and floor given value without using any python built-in functions:\n"
   ]
  },
  {
   "cell_type": "code",
   "execution_count": 11,
   "id": "91a6539d",
   "metadata": {},
   "outputs": [
    {
     "data": {
      "text/plain": [
       "(-2, -3)"
      ]
     },
     "execution_count": 11,
     "metadata": {},
     "output_type": "execute_result"
    }
   ],
   "source": [
    "def ceil_and_floor(value):\n",
    "    ceil = 0\n",
    "    floor = 0\n",
    "    if value >= 0:\n",
    "        while ceil < value:\n",
    "            floor = ceil\n",
    "            ceil += 1\n",
    "    else:\n",
    "        while floor > value:\n",
    "            ceil = floor\n",
    "            floor -= 1\n",
    "    return ceil, floor\n",
    "\n",
    "\n",
    "ceil_and_floor(-2.95)\n",
    "    "
   ]
  },
  {
   "cell_type": "markdown",
   "id": "1bb8867e",
   "metadata": {},
   "source": [
    "3.Python script to swap two integers in single line:"
   ]
  },
  {
   "cell_type": "code",
   "execution_count": 13,
   "id": "41cce8fc",
   "metadata": {},
   "outputs": [
    {
     "data": {
      "text/plain": [
       "(3, -2)"
      ]
     },
     "execution_count": 13,
     "metadata": {},
     "output_type": "execute_result"
    }
   ],
   "source": [
    "def two_int_in_line(x, y):\n",
    "    x, y = y, x\n",
    "    return x, y\n",
    "\n",
    "two_int_in_line(-2, 3)"
   ]
  },
  {
   "cell_type": "markdown",
   "id": "4fe16133",
   "metadata": {},
   "source": [
    "4.Write a program that asks the user their name:"
   ]
  },
  {
   "cell_type": "code",
   "execution_count": 17,
   "id": "41e07599",
   "metadata": {},
   "outputs": [
    {
     "name": "stdout",
     "output_type": "stream",
     "text": [
      "Enter your name, please: Me\n",
      "You have a nice name.\n"
     ]
    }
   ],
   "source": [
    "name = str(input(\"Enter your name, please: \"))\n",
    "my_name = \"Iaroslav Mokroguz\"\n",
    "my_name_answ = \"That is a nice name.\"\n",
    "john_name = \"John Cleese\"\n",
    "john_answ = \"John Marwood Cleese is an English actor, comedian, screenwriter, and producer.\"\n",
    "michael_name = \"Michael Palin\"\n",
    "michael_answ = \"Sir Michael Edward Palin KCMG CBE FRGS FRSGS is an English actor, comedian, writer, television presenter and public speaker.\"\n",
    "otherwise_answ = \"You have a nice name.\"\n",
    "\n",
    "answ = my_name_answ if name == my_name else john_answ if name == john_name else michael_answ if name == michael_name else otherwise_answ\n",
    "print(answ)\n",
    "\n"
   ]
  },
  {
   "cell_type": "markdown",
   "id": "8b44688d",
   "metadata": {},
   "source": [
    "5.A particular retailer:"
   ]
  },
  {
   "cell_type": "code",
   "execution_count": 21,
   "id": "3d5f7699",
   "metadata": {},
   "outputs": [
    {
     "name": "stdout",
     "output_type": "stream",
     "text": [
      "Original price: 4.95.  New price: 2.97.\n",
      "Original price: 9.95.  New price: 5.97.\n",
      "Original price: 14.95.  New price: 8.97.\n",
      "Original price: 19.95.  New price: 11.97.\n",
      "Original price: 24.95.  New price: 14.97.\n"
     ]
    }
   ],
   "source": [
    "original_prices = [4.95, 9.95, 14.95, 19.95, 24.95]\n",
    "disc = 0.6\n",
    "for price in original_prices:\n",
    "    raw = \"Original price: \" + str(price) + \".  New price: \" + str(round(price * disc, 2)) + \".\"\n",
    "    print(raw)\n",
    "    "
   ]
  },
  {
   "cell_type": "markdown",
   "id": "a138e788",
   "metadata": {},
   "source": [
    "6.Print a table:"
   ]
  },
  {
   "cell_type": "code",
   "execution_count": 3,
   "id": "08ca83b7",
   "metadata": {},
   "outputs": [
    {
     "name": "stdout",
     "output_type": "stream",
     "text": [
      "a b pow(a, b)\n",
      "1 2 1\n",
      "2 3 8\n",
      "3 4 81\n",
      "4 5 1024\n",
      "5 6 15625\n"
     ]
    }
   ],
   "source": [
    "def my_pow(a,b):\n",
    "    res = a\n",
    "    count = 1\n",
    "    if b == 0:\n",
    "        return 1\n",
    "    while count < b:\n",
    "        res *= a\n",
    "        count += 1\n",
    "    return res\n",
    "\n",
    "a = 1\n",
    "b = 2\n",
    "\n",
    "print(\"a b pow(a, b)\")\n",
    "\n",
    "while a <= 5:\n",
    "    print(f'{a} {b} {my_pow(a,b)}')\n",
    "    a += 1\n",
    "    b += 1"
   ]
  },
  {
   "cell_type": "markdown",
   "id": "cf6e7da2",
   "metadata": {},
   "source": [
    "7.Lottery:"
   ]
  },
  {
   "cell_type": "code",
   "execution_count": 18,
   "id": "305aad3f",
   "metadata": {},
   "outputs": [
    {
     "name": "stdout",
     "output_type": "stream",
     "text": [
      "Please enter 3 digit number: 123\n",
      "Lottery number is  550\n",
      "Your number is 123\n",
      "You lose :(\n"
     ]
    }
   ],
   "source": [
    "import random\n",
    "\n",
    "def check_all_numbers(arr1, arr2):\n",
    "    arr1.sort()\n",
    "    arr2.sort()\n",
    "    res = 0\n",
    "    for i in range(len(arr1)):\n",
    "        if arr1[i] == arr2[i]:\n",
    "            res += 1\n",
    "    return res\n",
    "\n",
    "def my_lottery():\n",
    "    lottery = \"\"\n",
    "    lottery_ar = [random.randint(0,9), random.randint(0,9), random.randint(0,9)]\n",
    "    #lottery_ar = [1, 2, 3]\n",
    "    \n",
    "    for ch in lottery_ar:\n",
    "        lottery += str(ch)\n",
    "        \n",
    "    number = str(input(\"Please enter 3 digit number: \"))\n",
    "    num_ar = [0, 0, 0]\n",
    "    \n",
    "    if len(number) != 3:\n",
    "        print(\"Wrong input\")\n",
    "        return \n",
    "    \n",
    "    for i,ch in enumerate(number):\n",
    "        num_ar[i] = int(ch)\n",
    "    \n",
    "    print(\"Lottery number is \",lottery)\n",
    "    print(\"Your number is\",number)\n",
    "    \n",
    "    if lottery == number:\n",
    "        print(\"You win $10,000!\")\n",
    "    elif check_all_numbers(lottery_ar, num_ar) == 3:\n",
    "        print(\"You win $3,000!\")\n",
    "    elif check_all_numbers(lottery_ar, num_ar) > 0:\n",
    "        print(\"You win $1,000!\")\n",
    "    else:\n",
    "        print(\"You lose :(\") \n",
    "\n",
    "my_lottery()"
   ]
  },
  {
   "cell_type": "markdown",
   "id": "9572f658",
   "metadata": {},
   "source": [
    "8.Occurrence of max numbers:"
   ]
  },
  {
   "cell_type": "code",
   "execution_count": 2,
   "id": "d6784f01",
   "metadata": {},
   "outputs": [
    {
     "name": "stdout",
     "output_type": "stream",
     "text": [
      "Enter a set of integers (Set will be finished by entering 0)\n",
      "\n",
      "Element on position 0 is:\n",
      "3\n",
      "Element on position 1 is:\n",
      "5\n",
      "Element on position 2 is:\n",
      "2\n",
      "Element on position 3 is:\n",
      "5\n",
      "Element on position 4 is:\n",
      "5\n",
      "Element on position 5 is:\n",
      "5\n",
      "Element on position 6 is:\n",
      "0\n",
      "\n",
      "You enter:  [3, 5, 2, 5, 5, 5, 0]\n",
      "The largest number is  5\n",
      "The occurrence count of the largest number is  4\n"
     ]
    }
   ],
   "source": [
    "print(\"Enter a set of integers (Set will be finished by entering 0)\")\n",
    "print(\"\")\n",
    "integers = []\n",
    "i = 0\n",
    "while True:\n",
    "    print(f'Element on position {i} is:')\n",
    "    el = int(input())\n",
    "    integers.append(el)\n",
    "    if el == 0:\n",
    "        break\n",
    "    i += 1\n",
    "print(\"\")\n",
    "print(\"You enter: \", integers)\n",
    "max_number = max(integers)\n",
    "print(\"The largest number is \", max_number)\n",
    "print(\"The occurrence count of the largest number is \", integers.count(max_number))\n",
    "    "
   ]
  },
  {
   "cell_type": "markdown",
   "id": "a8447991",
   "metadata": {},
   "source": [
    "9.Write a program to display the following series:"
   ]
  },
  {
   "cell_type": "code",
   "execution_count": 1,
   "id": "0dcb80ff",
   "metadata": {},
   "outputs": [
    {
     "name": "stdout",
     "output_type": "stream",
     "text": [
      "          *           \n",
      "        *   *         \n",
      "      *   *   *       \n",
      "    *   *   *   *     \n",
      "  *   *   *   *   *   \n"
     ]
    }
   ],
   "source": [
    "def display_matrix(matrix):\n",
    "    for row in matrix:\n",
    "        for column in row:\n",
    "            print(str(column), end = \" \")\n",
    "        print()\n",
    "        \n",
    "def convert_astr(matrix):\n",
    "    for i,row in enumerate(matrix):\n",
    "        for j,column in enumerate(row):\n",
    "            if column == 1:\n",
    "                matrix[i][j] = \"*\"\n",
    "            else:\n",
    "                matrix[i][j] = \" \"\n",
    "    return matrix\n",
    "\n",
    "matrix = [[0, 0, 0, 0, 0, 1, 0, 0, 0, 0, 0],[0, 0, 0, 0, 1, 0, 1, 0, 0, 0, 0],[0, 0, 0, 1, 0, 1, 0, 1, 0, 0, 0],[0, 0, 1, 0, 1, 0, 1, 0, 1, 0, 0],[0, 1, 0, 1, 0, 1, 0, 1, 0, 1, 0]]\n",
    "\n",
    "display_matrix(convert_astr(matrix))\n",
    "\n",
    "\n"
   ]
  },
  {
   "cell_type": "markdown",
   "id": "a39b3799",
   "metadata": {},
   "source": [
    "10.Write a program to display the following series:"
   ]
  },
  {
   "cell_type": "code",
   "execution_count": 2,
   "id": "0ef67a5e",
   "metadata": {},
   "outputs": [
    {
     "name": "stdout",
     "output_type": "stream",
     "text": [
      "  1   2   3   4   5   6   7   \n",
      "    2   3   4   5   6   7     \n",
      "      3   4   5   6   7       \n",
      "        4   5   6   7         \n",
      "          5   6   7           \n",
      "            6   7             \n",
      "              7               \n",
      "            6   7             \n",
      "          5   6   7           \n",
      "        4   5   6   7         \n",
      "      3   4   5   6   7       \n",
      "    2   3   4   5   6   7     \n",
      "  1   2   3   4   5   6   7   \n"
     ]
    }
   ],
   "source": [
    "row_0 = [\" \", 1, \" \", 2, \" \", 3, \" \", 4, \" \", 5, \" \", 6, \" \", 7, \" \"]\n",
    "row_1 = [\" \", \" \", 2, \" \", 3, \" \", 4, \" \", 5, \" \", 6, \" \", 7, \" \", \" \"]\n",
    "row_2 = [\" \", \" \", \" \", 3, \" \", 4, \" \", 5, \" \", 6, \" \", 7, \" \", \" \", \" \"]\n",
    "row_3 = [\" \", \" \", \" \", \" \", 4, \" \", 5, \" \", 6, \" \", 7, \" \", \" \", \" \", \" \"]\n",
    "row_4 = [\" \", \" \", \" \", \" \", \" \", 5, \" \", 6, \" \", 7, \" \", \" \", \" \", \" \", \" \"]\n",
    "row_5 = [\" \", \" \", \" \", \" \", \" \", \" \", 6, \" \", 7, \" \", \" \", \" \", \" \", \" \", \" \"]\n",
    "row_6 = [\" \", \" \", \" \", \" \", \" \", \" \", \" \", 7, \" \", \" \", \" \", \" \", \" \", \" \", \" \"]\n",
    "\n",
    "matrix = [row_0, row_1, row_2, row_3, row_4, row_5, row_6, row_5, row_4, row_3, row_2, row_1, row_0]\n",
    "\n",
    "display_matrix(matrix)"
   ]
  },
  {
   "cell_type": "markdown",
   "id": "0dc5df50",
   "metadata": {},
   "source": [
    "11.Phone keypads:"
   ]
  },
  {
   "cell_type": "code",
   "execution_count": 9,
   "id": "d2f8532f",
   "metadata": {},
   "outputs": [
    {
     "name": "stdout",
     "output_type": "stream",
     "text": [
      "Please enter phone number: 1-800-Flowers\n",
      "1-800-3569377\n"
     ]
    }
   ],
   "source": [
    "import string \n",
    "\n",
    "number = str(input(\"Please enter phone number: \"))\n",
    "\n",
    "alphabet_string = string.ascii_lowercase\n",
    "\n",
    "alphabet_list = list(alphabet_string)\n",
    "\n",
    "number = number.lower()\n",
    "number = list(number)\n",
    "\n",
    "res = \"\"\n",
    "\n",
    "for i,ch in enumerate(number):\n",
    "    if ch in alphabet_list:\n",
    "        num = alphabet_list.index(ch)\n",
    "        if num <= 2:\n",
    "            number[i] = 2\n",
    "        elif num <= 5:\n",
    "            number[i] = 3\n",
    "        elif num <= 8:\n",
    "            number[i] = 4\n",
    "        elif num <= 11:\n",
    "            number[i] = 5\n",
    "        elif num <= 14:\n",
    "            number[i] = 6\n",
    "        elif num <= 18:\n",
    "            number[i] = 7\n",
    "        elif num <= 21:\n",
    "            number[i] = 8\n",
    "        else:\n",
    "            number[i] = 9\n",
    "    res += str(number[i])\n",
    "\n",
    "print(res)\n",
    "        "
   ]
  },
  {
   "cell_type": "code",
   "execution_count": null,
   "id": "f2c8de63",
   "metadata": {},
   "outputs": [],
   "source": []
  }
 ],
 "metadata": {
  "kernelspec": {
   "display_name": "Python 3",
   "language": "python",
   "name": "python3"
  },
  "language_info": {
   "codemirror_mode": {
    "name": "ipython",
    "version": 3
   },
   "file_extension": ".py",
   "mimetype": "text/x-python",
   "name": "python",
   "nbconvert_exporter": "python",
   "pygments_lexer": "ipython3",
   "version": "3.8.2"
  }
 },
 "nbformat": 4,
 "nbformat_minor": 5
}
