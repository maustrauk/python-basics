{
 "cells": [
  {
   "cell_type": "code",
   "execution_count": 116,
   "id": "0605724e",
   "metadata": {},
   "outputs": [],
   "source": [
    "class Hotel():\n",
    "    NOT_FOUND = -1\n",
    "    \n",
    "    def __init__(self, name, location):\n",
    "        self.numOfRooms = 0\n",
    "        self.occupiedCnt = 0\n",
    "        self.theRooms = [None] * 10\n",
    "        self.name = str(name)\n",
    "        self.location = str(location)\n",
    "    \n",
    "    def isFull(self):\n",
    "        return self.numOfRooms == self.occupiedCnt\n",
    "    \n",
    "    def isEmpty(self):\n",
    "        return self.occupiedCnt == 0\n",
    "    \n",
    "    def addRoom(self, roomNum, bedType, smoking, price):\n",
    "        room = Room(roomNum, bedType, smoking, price)\n",
    "        \n",
    "        for i,theRoom in enumerate(self.theRooms):\n",
    "            if theRoom == None:\n",
    "                self.theRooms[i] = room\n",
    "                self.numOfRooms += 1\n",
    "                return\n",
    "        \n",
    "        self.numOfRooms += 1\n",
    "        self.theRooms.append(room)\n",
    "    \n",
    "    def addReservation(self, occupantName, smoking, bedType):\n",
    "        for room in self.filtered():\n",
    "            if room.getSmoking() == smoking and room.getBedType() == bedType and not room.isOccupied():\n",
    "                room.setOccupied(True)\n",
    "                room.setOccupant(occupantName)\n",
    "                self.occupiedCnt += 1\n",
    "                print(\"You made a successful reservation!\\n\")\n",
    "                print(f'You reservation name is: {occupantName}, room number is: {str(room.getRoomNum())}, bed type is: {bedType}, smoking type is: {smoking}\\n')\n",
    "                return\n",
    "            \n",
    "        print(\"Reservation failed: there is no unoccupied room that applies your search criteria\\n\")\n",
    "    \n",
    "    def cancelReservation(self,occupantName):\n",
    "        roomIndex = self.findReservation(occupantName)\n",
    "        if roomIndex != Hotel.NOT_FOUND:\n",
    "            room = self.theRooms[roomIndex]\n",
    "            room.setOccupied(False)\n",
    "            room.setOccupant(\"Not Occupied\")\n",
    "            self.occupiedCnt -= 1\n",
    "            print(f'Reservation for {occupantName} at room {room.getRoomNum()} is canseled!\\n')\n",
    "        else:\n",
    "            print(f'There is no reserved rooms for {occupantName}\\n')\n",
    "            \n",
    "    \n",
    "    def findReservation(self,occupantName):\n",
    "        for i,room in enumerate(self.filtered()):\n",
    "            if room.getOccupant() == occupantName:\n",
    "                return i\n",
    "        return Hotel.NOT_FOUND\n",
    "    \n",
    "    def printReservationList(self):\n",
    "        print(\"Reservation list:\\n\")\n",
    "        [print(room) for room in self.filtered() if room.isOccupied()]\n",
    "        \n",
    "    def getReservationPersonsList(self):\n",
    "        res = []\n",
    "        [res.append(room.getOccupant()) for room in self.filtered() if room.isOccupied() and room.getOccupant() not in res]\n",
    "        return res\n",
    "                \n",
    "    \n",
    "    def getDailySales(self):\n",
    "        res = 0\n",
    "        for room in self.filtered():\n",
    "            if room.isOccupied():\n",
    "                res += room.getRoomRate()\n",
    "        return res\n",
    "    \n",
    "    def occupancyPercentage(self):\n",
    "        if self.numOfRooms != 0:\n",
    "            return (self.occupiedCnt / self.numOfRooms) * 100\n",
    "        \n",
    "    def filtered(self):\n",
    "        return filter(lambda r: r != None, self.theRooms)\n",
    "    \n",
    "    def __str__(self):\n",
    "        header = f'Hotel Name: {self.name} \\nNumber of Rooms: {str(self.numOfRooms)} \\nNumber of Occupied Rooms: {str(self.occupiedCnt)}\\n'\n",
    "        header += '\\n'\n",
    "        res = header\n",
    "        \n",
    "        for room in self.filtered():\n",
    "            res += str(room) + '\\n'\n",
    "        \n",
    "        return res\n",
    "    \n",
    "    def getHotelName(self):\n",
    "        return self.name\n",
    "    \n",
    "    def getHotelLocation(self):\n",
    "        return self.location\n",
    "    \n",
    "    def getRoomList(self):\n",
    "        return [el for el in self.filtered()]\n",
    "\n",
    "class Room():\n",
    "    def __init__(self, roomNum, bedType, smoking, rate):\n",
    "        self.occupied = False\n",
    "        self.roomNum = int(roomNum)\n",
    "        self.bedType = str(bedType)\n",
    "        self.smoking = str(smoking)\n",
    "        self.rate = float(rate)\n",
    "        self.occupantName = \"Not Occupied\"\n",
    "    \n",
    "    def getBedType(self):\n",
    "        return self.bedType\n",
    "    \n",
    "    def getSmoking(self):\n",
    "        return self.smoking\n",
    "    \n",
    "    def getRoomNum(self):\n",
    "        return self.roomNum\n",
    "    \n",
    "    def getRoomRate(self):\n",
    "        return self.rate\n",
    "    \n",
    "    def getOccupant(self):\n",
    "        return self.occupantName\n",
    "    \n",
    "    def setOccupied(self, occupied):\n",
    "        self.occupied = occupied\n",
    "    \n",
    "    def setOccupant(self, occupantName):\n",
    "        self.occupantName = occupantName\n",
    "    \n",
    "    def setRoomNum(self, roomNum):\n",
    "        self.roomNum = roomNum\n",
    "        \n",
    "    def setBedType(self, bedType):\n",
    "        self.bedType = bedType\n",
    "        \n",
    "    def setRate(self, rate):\n",
    "        self.rate = rate\n",
    "        \n",
    "    def setSmoking(self, smoking):\n",
    "        self.smoking = smoking\n",
    "        \n",
    "    def isOccupied(self):\n",
    "        return self.occupied\n",
    "    \n",
    "    def __str__(self):\n",
    "        room_deatail = [\n",
    "            f'Room Number: {str(self.roomNum)}\\n',\n",
    "            f'Occupant name: {self.occupantName}\\n',\n",
    "            f'Smoking room: {self.smoking}\\n',\n",
    "            f'Bed Type: {self.bedType}\\n',\n",
    "            f'Rate: {str(self.rate)} \\n']\n",
    "        res = 'Room Details are:\\n'\n",
    "        for st in room_deatail:\n",
    "            res += st\n",
    "        return  res"
   ]
  },
  {
   "cell_type": "code",
   "execution_count": 117,
   "id": "900d8965",
   "metadata": {},
   "outputs": [],
   "source": [
    "marriot = Hotel(\"Beach Marriot\", \"Pensacola\")\n",
    "atlantic = Hotel(\"Atlantic Hotel\", \"Montana\")\n",
    "\n",
    "marriot.addRoom(101, \"queen\", \"s\", 100)\n",
    "marriot.addRoom(102, \"king\", \"n\", 110)\n",
    "marriot.addRoom(103, \"king\", \"n\", 88)\n",
    "marriot.addRoom(104, \"twin\", \"s\", 100)\n",
    "marriot.addRoom(105, \"queen\", \"n\", 99)\n",
    "\n",
    "atlantic.addRoom(101, \"queen\", \"s\", 100)\n",
    "atlantic.addRoom(102, \"king\", \"n\", 110)\n",
    "atlantic.addRoom(103, \"king\", \"n\", 88)\n",
    "atlantic.addRoom(104, \"twin\", \"s\", 100)\n",
    "atlantic.addRoom(105, \"queen\", \"n\", 99)\n",
    "\n"
   ]
  },
  {
   "cell_type": "code",
   "execution_count": 118,
   "id": "58180368",
   "metadata": {},
   "outputs": [
    {
     "name": "stdout",
     "output_type": "stream",
     "text": [
      "You made a successful reservation!\n",
      "\n",
      "You reservation name is: Pinto, room number is: 102, bed type is: king, smoking type is: n\n",
      "\n"
     ]
    }
   ],
   "source": [
    "marriot.addReservation(\"Pinto\", \"n\", \"king\")"
   ]
  },
  {
   "cell_type": "code",
   "execution_count": 119,
   "id": "5805e2e1",
   "metadata": {},
   "outputs": [
    {
     "name": "stdout",
     "output_type": "stream",
     "text": [
      "You made a successful reservation!\n",
      "\n",
      "You reservation name is: Wilson, room number is: 103, bed type is: king, smoking type is: n\n",
      "\n"
     ]
    }
   ],
   "source": [
    "marriot.addReservation(\"Wilson\", \"n\", \"king\")"
   ]
  },
  {
   "cell_type": "code",
   "execution_count": 120,
   "id": "4ebaf6c4",
   "metadata": {},
   "outputs": [
    {
     "name": "stdout",
     "output_type": "stream",
     "text": [
      "Reservation failed: there is no unoccupied room that applies your search criteria\n",
      "\n"
     ]
    }
   ],
   "source": [
    "marriot.addReservation(\"Tester\", \"n\", \"king\")"
   ]
  },
  {
   "cell_type": "code",
   "execution_count": 121,
   "id": "ba67c62f",
   "metadata": {},
   "outputs": [
    {
     "name": "stdout",
     "output_type": "stream",
     "text": [
      "Reservation for Wilson at room 103 is canseled!\n",
      "\n"
     ]
    }
   ],
   "source": [
    "marriot.cancelReservation(\"Wilson\")"
   ]
  },
  {
   "cell_type": "code",
   "execution_count": 122,
   "id": "add0cf37",
   "metadata": {},
   "outputs": [
    {
     "name": "stdout",
     "output_type": "stream",
     "text": [
      "You made a successful reservation!\n",
      "\n",
      "You reservation name is: Wilson, room number is: 103, bed type is: king, smoking type is: n\n",
      "\n"
     ]
    }
   ],
   "source": [
    "marriot.addReservation(\"Wilson\", \"n\", \"king\")"
   ]
  },
  {
   "cell_type": "code",
   "execution_count": 123,
   "id": "e594b889",
   "metadata": {},
   "outputs": [
    {
     "name": "stdout",
     "output_type": "stream",
     "text": [
      "Reservation list:\n",
      "\n",
      "Room Details are:\n",
      "Room Number: 102\n",
      "Occupant name: Pinto\n",
      "Smoking room: n\n",
      "Bed Type: king\n",
      "Rate: 110.0 \n",
      "\n",
      "Room Details are:\n",
      "Room Number: 103\n",
      "Occupant name: Wilson\n",
      "Smoking room: n\n",
      "Bed Type: king\n",
      "Rate: 88.0 \n",
      "\n"
     ]
    }
   ],
   "source": [
    "marriot.printReservationList()"
   ]
  },
  {
   "cell_type": "code",
   "execution_count": 124,
   "id": "074f8e7a",
   "metadata": {},
   "outputs": [
    {
     "name": "stdout",
     "output_type": "stream",
     "text": [
      "Daily sales: 198.0\n",
      "\n"
     ]
    }
   ],
   "source": [
    "print(f'Daily sales: {marriot.getDailySales()}\\n')"
   ]
  },
  {
   "cell_type": "code",
   "execution_count": 125,
   "id": "dc113556",
   "metadata": {},
   "outputs": [
    {
     "name": "stdout",
     "output_type": "stream",
     "text": [
      "Occupancy: 40.0%\n",
      "\n"
     ]
    }
   ],
   "source": [
    "print(f'Occupancy: {marriot.occupancyPercentage()}%\\n')"
   ]
  },
  {
   "cell_type": "code",
   "execution_count": 126,
   "id": "721c8d92",
   "metadata": {},
   "outputs": [
    {
     "name": "stdout",
     "output_type": "stream",
     "text": [
      "Hotel Name: Beach Marriot \n",
      "Number of Rooms: 5 \n",
      "Number of Occupied Rooms: 2\n",
      "\n",
      "Room Details are:\n",
      "Room Number: 101\n",
      "Occupant name: Not Occupied\n",
      "Smoking room: s\n",
      "Bed Type: queen\n",
      "Rate: 100.0 \n",
      "\n",
      "Room Details are:\n",
      "Room Number: 102\n",
      "Occupant name: Pinto\n",
      "Smoking room: n\n",
      "Bed Type: king\n",
      "Rate: 110.0 \n",
      "\n",
      "Room Details are:\n",
      "Room Number: 103\n",
      "Occupant name: Wilson\n",
      "Smoking room: n\n",
      "Bed Type: king\n",
      "Rate: 88.0 \n",
      "\n",
      "Room Details are:\n",
      "Room Number: 104\n",
      "Occupant name: Not Occupied\n",
      "Smoking room: s\n",
      "Bed Type: twin\n",
      "Rate: 100.0 \n",
      "\n",
      "Room Details are:\n",
      "Room Number: 105\n",
      "Occupant name: Not Occupied\n",
      "Smoking room: n\n",
      "Bed Type: queen\n",
      "Rate: 99.0 \n",
      "\n",
      "\n"
     ]
    }
   ],
   "source": [
    "print(marriot)"
   ]
  },
  {
   "cell_type": "code",
   "execution_count": 141,
   "id": "1c153620",
   "metadata": {},
   "outputs": [
    {
     "name": "stdout",
     "output_type": "stream",
     "text": [
      "\n",
      " [(1, 'Beach Marriot', 'Pensacola'), (2, 'Atlantic Hotel', 'Montana')]\n",
      "\n",
      " [(0, 'Pinto'), (1, 'Wilson')]\n",
      "\n",
      " [(0, 101, 'Not Occupied', 's', 'queen', 100.0), (1, 102, 'Pinto', 'n', 'king', 110.0), (2, 103, 'Wilson', 'n', 'king', 88.0), (3, 104, 'Not Occupied', 's', 'twin', 100.0), (4, 105, 'Not Occupied', 'n', 'queen', 99.0), (5, 101, 'Not Occupied', 's', 'queen', 100.0), (6, 102, 'Not Occupied', 'n', 'king', 110.0), (7, 103, 'Not Occupied', 'n', 'king', 88.0), (8, 104, 'Not Occupied', 's', 'twin', 100.0), (9, 105, 'Not Occupied', 'n', 'queen', 99.0)]\n"
     ]
    }
   ],
   "source": [
    "import sqlite3\n",
    "\n",
    "connection = sqlite3.connect(\":memory:\")\n",
    "cursor = connection.cursor()\n",
    "\n",
    "def create_table(cursor, name, columns):\n",
    "    sql = f'CREATE TABLE {name} ('\n",
    "    for column in columns:\n",
    "        sql += \"{0} {1}, \".format(column['name'], column['props'])\n",
    "    sql = sql[:-2]\n",
    "    sql += \")\"\n",
    "    cursor.execute(sql)\n",
    "\n",
    "def insert_to_table(cursor, name, row):\n",
    "    sql = f'INSERT INTO {name} VALUES('\n",
    "    for prop in row:\n",
    "        sql += \"{}, \".format(prop, )\n",
    "    sql = sql[:-2]\n",
    "    sql += \")\"\n",
    "    cursor.execute(sql)\n",
    "    \n",
    "hotels_table = [{'name': 'id', 'props' : 'INT PRIMARY KEY NOT NULL'},\n",
    "               {'name': 'name', 'props' : 'TEXT NOT NULL'},\n",
    "               {'name': 'location', 'props' : 'TEXT NOT NULL'}]\n",
    "\n",
    "create_table(cursor, \"hotels\", hotels_table)\n",
    "\n",
    "hotel_rows = [[1, f'\"{marriot.getHotelName()}\"', f'\"{marriot.getHotelLocation()}\"'],\n",
    "       [2, f'\"{atlantic.getHotelName()}\"', f'\"{atlantic.getHotelLocation()}\"']]\n",
    "\n",
    "[insert_to_table(cursor, \"hotels\", row) for row in hotel_rows]\n",
    "\n",
    "customer_table = [{'name': 'id', 'props' : 'INT PRIMARY KEY NOT NULL'},\n",
    "               {'name': 'name', 'props' : 'TEXT NOT NULL'}]\n",
    "\n",
    "create_table(cursor, \"customers\", customer_table)\n",
    "\n",
    "customer_rows = [[i, f'\"{name}\"'] for i,name in enumerate(marriot.getReservationPersonsList() + atlantic.getReservationPersonsList())]\n",
    "\n",
    "[insert_to_table(cursor, \"customers\", row) for row in customer_rows]\n",
    "\n",
    "room_table = [{'name': 'id', 'props' : 'INT PRIMARY KEY NOT NULL'},\n",
    "                {'name': 'room number', 'props' : 'INT NOT NULL'},\n",
    "                {'name': 'occupant name', 'props' : 'TEXT NOT NULL'},\n",
    "                {'name': 'smoking', 'props' : 'CHAR(1) NOT NULL'},\n",
    "                {'name': 'bed type', 'props' : 'CHAR(20) NOT NULL'},\n",
    "                {'name': 'rate', 'props' : 'FLOAT NOT NULL'}]\n",
    "\n",
    "create_table(cursor, \"rooms\", room_table)\n",
    "\n",
    "rooms = marriot.getRoomList() + atlantic.getRoomList()\n",
    "\n",
    "room_rows = [[i, room.getRoomNum(), f'\"{room.getOccupant()}\"', f'\"{room.getSmoking()}\"', f'\"{room.getBedType()}\"', room.getRoomRate()] for i,room in enumerate(rooms)]\n",
    "\n",
    "[insert_to_table(cursor, \"rooms\", row) for row in room_rows]\n",
    "\n",
    "check_hotels = cursor.execute(\"SELECT * FROM hotels\").fetchall()\n",
    "check_customers = cursor.execute(\"SELECT * FROM customers\").fetchall()\n",
    "check_rooms = cursor.execute(\"SELECT * FROM rooms\").fetchall()\n",
    "\n",
    "print(\"\\n\",check_hotels)\n",
    "print(\"\\n\",check_customers)\n",
    "print(\"\\n\",check_rooms)\n",
    "\n",
    "connection.close()"
   ]
  },
  {
   "cell_type": "code",
   "execution_count": null,
   "id": "953c99fc",
   "metadata": {},
   "outputs": [],
   "source": []
  }
 ],
 "metadata": {
  "kernelspec": {
   "display_name": "Python 3",
   "language": "python",
   "name": "python3"
  },
  "language_info": {
   "codemirror_mode": {
    "name": "ipython",
    "version": 3
   },
   "file_extension": ".py",
   "mimetype": "text/x-python",
   "name": "python",
   "nbconvert_exporter": "python",
   "pygments_lexer": "ipython3",
   "version": "3.8.2"
  }
 },
 "nbformat": 4,
 "nbformat_minor": 5
}
