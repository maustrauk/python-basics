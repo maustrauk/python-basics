{
 "cells": [
  {
   "cell_type": "markdown",
   "id": "65b2657f",
   "metadata": {},
   "source": [
    "1.Given a two list. Create a third list by picking an odd-index element from the first list and even index elements from second: "
   ]
  },
  {
   "cell_type": "code",
   "execution_count": 1,
   "id": "46d96446",
   "metadata": {},
   "outputs": [
    {
     "data": {
      "text/plain": [
       "[6, 12, 18, 4, 12, 20, 28]"
      ]
     },
     "execution_count": 1,
     "metadata": {},
     "output_type": "execute_result"
    }
   ],
   "source": [
    "listOne = [3, 6, 9, 12, 15, 18, 21]\n",
    "listTwo = [4, 8, 12, 16, 20, 24, 28]\n",
    "\n",
    "listThree = listOne[1::2] + listTwo[::2]\n",
    "listThree\n",
    "    "
   ]
  },
  {
   "cell_type": "markdown",
   "id": "64712c07",
   "metadata": {},
   "source": [
    "2.Given a list slice it into a 3 equal chunks and reverse each list:"
   ]
  },
  {
   "cell_type": "code",
   "execution_count": 12,
   "id": "d5ebf8e1",
   "metadata": {},
   "outputs": [
    {
     "name": "stdout",
     "output_type": "stream",
     "text": [
      "[8, 45, 11]\n",
      "[12, 14, 23]\n",
      "[89, 45, 78]\n"
     ]
    }
   ],
   "source": [
    "sampleList = [11, 45, 8, 23, 14, 12, 78, 45, 89]\n",
    "\n",
    "for i in range(3):\n",
    "    print(list(reversed(sampleList[i*3:i*3+3])))\n",
    "\n"
   ]
  },
  {
   "cell_type": "markdown",
   "id": "a8760c1c",
   "metadata": {},
   "source": [
    "3.Given a list iterate it and count the occurrence of each element and create a dictionary to show the count of each element:"
   ]
  },
  {
   "cell_type": "code",
   "execution_count": 15,
   "id": "ef451918",
   "metadata": {},
   "outputs": [
    {
     "name": "stdout",
     "output_type": "stream",
     "text": [
      "{11: 2, 45: 3, 8: 1, 23: 2, 89: 1}\n"
     ]
    }
   ],
   "source": [
    "o_list = [11, 45, 8, 11, 23, 45, 23, 45, 89]\n",
    "counter = dict()\n",
    "for num in o_list:\n",
    "    if num not in counter:\n",
    "        counter[num] = 1\n",
    "    else:\n",
    "        counter[num] += 1\n",
    "print(counter)\n",
    "        "
   ]
  },
  {
   "cell_type": "markdown",
   "id": "86caed82",
   "metadata": {},
   "source": [
    "4.Given a two list of equal size create a set such that it shows the element from both lists in the pair:"
   ]
  },
  {
   "cell_type": "code",
   "execution_count": 1,
   "id": "f534f840",
   "metadata": {},
   "outputs": [],
   "source": [
    "list_1 = [2, 3, 4, 5, 6, 7, 8]\n",
    "list_2 = [4, 9, 16, 25, 36, 49, 64]\n",
    "\n"
   ]
  },
  {
   "cell_type": "markdown",
   "id": "b39e6cee",
   "metadata": {},
   "source": [
    "5.Iterate a given list and Check if a given element already exists in a dictionary as a key’s value if not delete it from the list:"
   ]
  },
  {
   "cell_type": "code",
   "execution_count": 3,
   "id": "1242c63d",
   "metadata": {},
   "outputs": [
    {
     "data": {
      "text/plain": [
       "[47, 69, 76, 97]"
      ]
     },
     "execution_count": 3,
     "metadata": {},
     "output_type": "execute_result"
    }
   ],
   "source": [
    "rollNumber = [47, 64, 69, 37, 76, 83, 95, 97]\n",
    "sampleDict ={'Jhon':47, 'Emma':69, 'Kelly':76, 'Jason':97}\n",
    "\n",
    "[value for value in sampleDict.values() if value in rollNumber]"
   ]
  },
  {
   "cell_type": "markdown",
   "id": "ff069d44",
   "metadata": {},
   "source": [
    "6.Given a dictionary get all values from the dictionary and add it in a list but don’t add duplicates:"
   ]
  },
  {
   "cell_type": "code",
   "execution_count": 13,
   "id": "0c5efa55",
   "metadata": {},
   "outputs": [
    {
     "data": {
      "text/plain": [
       "[47, 52, 44, 53, 54]"
      ]
     },
     "execution_count": 13,
     "metadata": {},
     "output_type": "execute_result"
    }
   ],
   "source": [
    "speed ={'jan':47, 'feb':52, 'march':47, 'April':44, 'May':52, 'June':53, 'july':54, 'Aug':44, 'Sept':54}\n",
    "res = []\n",
    "[res.append(item) for item in speed.values() if item not in res]\n",
    "res"
   ]
  },
  {
   "cell_type": "markdown",
   "id": "9b056954",
   "metadata": {},
   "source": [
    "7.Remove duplicate from a list and create a tuple and find the minimum and maximum number:"
   ]
  },
  {
   "cell_type": "code",
   "execution_count": 15,
   "id": "ba313d7e",
   "metadata": {},
   "outputs": [
    {
     "name": "stdout",
     "output_type": "stream",
     "text": [
      "unique items  [87, 45, 65, 99]\n",
      "tuple  (87, 45, 65, 99)\n",
      "min:  45\n",
      "max:  99\n"
     ]
    }
   ],
   "source": [
    "sampleList = [87, 45, 41, 65, 94, 41, 99, 94]\n",
    "u_items = []\n",
    "[u_items.append(item) if item not in u_items else u_items.remove(item) for item in sampleList]\n",
    "t_items = tuple(u_items)\n",
    "max_item = max(u_items)\n",
    "min_item = min(u_items)\n",
    "print(\"unique items \", u_items)\n",
    "print(\"tuple \", t_items)\n",
    "print(\"min: \", min_item)\n",
    "print(\"max: \", max_item)"
   ]
  },
  {
   "cell_type": "markdown",
   "id": "a288d2fc",
   "metadata": {},
   "source": [
    "8.You are given a list of integers. Your task is to do the following:"
   ]
  },
  {
   "cell_type": "markdown",
   "id": "68415aa5",
   "metadata": {},
   "source": [
    "1) Replace all integers that are evenly divisible by 3 with \"fizz\":"
   ]
  },
  {
   "cell_type": "code",
   "execution_count": 16,
   "id": "10a9be74",
   "metadata": {},
   "outputs": [
    {
     "data": {
      "text/plain": [
       "['fizz', 22, 14, 65, 97, 'fizz']"
      ]
     },
     "execution_count": 16,
     "metadata": {},
     "output_type": "execute_result"
    }
   ],
   "source": [
    "numbers = [45, 22, 14, 65, 97, 72]\n",
    "[\"fizz\" if number % 3 == 0 else number for number in numbers]"
   ]
  },
  {
   "cell_type": "markdown",
   "id": "13a3d2c1",
   "metadata": {},
   "source": [
    "2) Replace all integers divisible by 5 with \"buzz\":"
   ]
  },
  {
   "cell_type": "code",
   "execution_count": 17,
   "id": "e64827cf",
   "metadata": {},
   "outputs": [
    {
     "data": {
      "text/plain": [
       "['buzz', 22, 14, 'buzz', 97, 72]"
      ]
     },
     "execution_count": 17,
     "metadata": {},
     "output_type": "execute_result"
    }
   ],
   "source": [
    "[\"buzz\" if number % 5 == 0 else number for number in numbers]"
   ]
  },
  {
   "cell_type": "markdown",
   "id": "fdb20941",
   "metadata": {},
   "source": [
    "3) Replace all integers divisible by both 3 and 5 with \"fizzbuzz\":"
   ]
  },
  {
   "cell_type": "code",
   "execution_count": 18,
   "id": "7e5f11a1",
   "metadata": {},
   "outputs": [
    {
     "data": {
      "text/plain": [
       "['fizzbuzz', 22, 14, 65, 97, 72]"
      ]
     },
     "execution_count": 18,
     "metadata": {},
     "output_type": "execute_result"
    }
   ],
   "source": [
    "[\"fizzbuzz\" if number % 5 == 0 and number % 3 == 0 else number for number in numbers]"
   ]
  },
  {
   "cell_type": "markdown",
   "id": "14a2e642",
   "metadata": {},
   "source": [
    "9.Sort the following list of complex data type in ascending order of age of an animal:"
   ]
  },
  {
   "cell_type": "code",
   "execution_count": 19,
   "id": "f0678a5e",
   "metadata": {},
   "outputs": [
    {
     "data": {
      "text/plain": [
       "[{'type': 'elephant', 'name': 'Devon', 'age': 3},\n",
       " {'type': 'puma', 'name': 'Moe', 'age': 5},\n",
       " {'type': 'penguin', 'name': 'Stephanie', 'age': 8}]"
      ]
     },
     "execution_count": 19,
     "metadata": {},
     "output_type": "execute_result"
    }
   ],
   "source": [
    "animals = [ {'type': 'penguin', 'name': 'Stephanie', 'age': 8}, {'type': 'elephant', 'name': 'Devon', 'age': 3}, {'type': 'puma', 'name': 'Moe', 'age': 5} ]\n",
    "\n",
    "animals.sort(key = lambda t: t['age'])\n",
    "animals"
   ]
  },
  {
   "cell_type": "markdown",
   "id": "5e554d28",
   "metadata": {},
   "source": [
    "10.You have a function named get_random_word(). It will always return a random selection from a small set of words:"
   ]
  },
  {
   "cell_type": "code",
   "execution_count": 20,
   "id": "c465b316",
   "metadata": {},
   "outputs": [
    {
     "data": {
      "text/plain": [
       "['words', 'the', 'all', 'in', 'world']"
      ]
     },
     "execution_count": 20,
     "metadata": {},
     "output_type": "execute_result"
    }
   ],
   "source": [
    "import random\n",
    "\n",
    "all_words = \"all the words in the world\".split()\n",
    "\n",
    "def get_random_word():\n",
    "    return random.choice(all_words)\n",
    "\n",
    "def get_unique_words():\n",
    "    res = []\n",
    "    for i in range(1000):\n",
    "        word = get_random_word()\n",
    "        if word not in res:\n",
    "            res.append(word)\n",
    "    return res\n",
    "\n",
    "get_unique_words()"
   ]
  },
  {
   "cell_type": "markdown",
   "id": "f2c28809",
   "metadata": {},
   "source": [
    "11.Given a dictionary cowboy:"
   ]
  },
  {
   "cell_type": "code",
   "execution_count": 23,
   "id": "6b905d69",
   "metadata": {},
   "outputs": [
    {
     "data": {
      "text/plain": [
       "'The Man with No Name'"
      ]
     },
     "execution_count": 23,
     "metadata": {},
     "output_type": "execute_result"
    }
   ],
   "source": [
    "cowboy = {'age': 32, 'horse': 'mustang', 'hat_size': 'large'}\n",
    "\n",
    "cowboy.setdefault('name', 'The Man with No Name')\n",
    "    "
   ]
  },
  {
   "cell_type": "markdown",
   "id": "1427efc4",
   "metadata": {},
   "source": [
    "12.Write a program that reads integers from the user and stores them in a list:"
   ]
  },
  {
   "cell_type": "code",
   "execution_count": 24,
   "id": "f2338684",
   "metadata": {},
   "outputs": [
    {
     "name": "stdout",
     "output_type": "stream",
     "text": [
      "If you want to finish, enter 0.\n",
      "Enter integer: 435\n",
      "Enter integer: 232\n",
      "Enter integer: 1234\n",
      "Enter integer: 12\n",
      "Enter integer: 324\n",
      "Enter integer: 0\n",
      "Result:\n",
      "12\n",
      "232\n",
      "324\n",
      "435\n",
      "1234\n"
     ]
    }
   ],
   "source": [
    "integers = list()\n",
    "\n",
    "print(\"If you want to finish, enter 0.\")\n",
    "\n",
    "while True:\n",
    "    integer = int(input('Enter integer: '))\n",
    "    if integer == 0:\n",
    "        break\n",
    "    integers.append(integer)\n",
    "    \n",
    "integers.sort()\n",
    "\n",
    "print(\"Result:\")\n",
    "\n",
    "for num in integers:\n",
    "    print(num)"
   ]
  },
  {
   "cell_type": "markdown",
   "id": "05a07e37",
   "metadata": {},
   "source": [
    "13.Create a program that reads integers from the user until a blank line is entered:"
   ]
  },
  {
   "cell_type": "code",
   "execution_count": 27,
   "id": "ac19b2c8",
   "metadata": {},
   "outputs": [
    {
     "name": "stdout",
     "output_type": "stream",
     "text": [
      "If you want to finish, enter blank line.\n",
      "Enter integer: 3\n",
      "Enter integer: -4\n",
      "Enter integer: 1\n",
      "Enter integer: 0\n",
      "Enter integer: -1\n",
      "Enter integer: 0\n",
      "Enter integer: 2\n",
      "Enter integer: \n",
      "Result:\n",
      "-4\n",
      "-1\n",
      "0\n",
      "0\n",
      "3\n",
      "1\n",
      "2\n"
     ]
    }
   ],
   "source": [
    "integers = dict()\n",
    "\n",
    "print(\"If you want to finish, enter blank line.\")\n",
    "\n",
    "while True:\n",
    "    index = len(integers)\n",
    "    integer = str(input('Enter integer: '))\n",
    "    if integer == \"\":\n",
    "        break\n",
    "    integers[index] = int(integer)\n",
    "\n",
    "print(\"Result:\")\n",
    "sort_value = dict(sorted(integers.items(),key = lambda t: t[1]))\n",
    "\n",
    "negative = dict()\n",
    "zero = dict()\n",
    "positive = dict()\n",
    "\n",
    "for key,value in sort_value.items():\n",
    "    if value < 0:\n",
    "        negative[key] = value\n",
    "    elif value == 0:\n",
    "        zero[key] = value\n",
    "    else:\n",
    "        positive[key] = value\n",
    "        \n",
    "sort_negative = dict(sorted(negative.items(), key = lambda t: t[1]))\n",
    "sort_positive = dict(sorted(positive.items(), key = lambda t: t[0]))\n",
    "\n",
    "result = dict()\n",
    "result.update(sort_negative)\n",
    "result.update(zero)\n",
    "result.update(sort_positive)\n",
    "\n",
    "for value in result.values():\n",
    "    print(value)"
   ]
  },
  {
   "cell_type": "code",
   "execution_count": null,
   "id": "a78e8f84",
   "metadata": {},
   "outputs": [],
   "source": []
  }
 ],
 "metadata": {
  "kernelspec": {
   "display_name": "Python 3",
   "language": "python",
   "name": "python3"
  },
  "language_info": {
   "codemirror_mode": {
    "name": "ipython",
    "version": 3
   },
   "file_extension": ".py",
   "mimetype": "text/x-python",
   "name": "python",
   "nbconvert_exporter": "python",
   "pygments_lexer": "ipython3",
   "version": "3.8.2"
  }
 },
 "nbformat": 4,
 "nbformat_minor": 5
}
