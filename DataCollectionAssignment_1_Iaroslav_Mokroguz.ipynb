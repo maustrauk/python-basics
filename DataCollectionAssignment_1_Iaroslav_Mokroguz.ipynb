{
 "cells": [
  {
   "cell_type": "markdown",
   "id": "a0dd7a9c",
   "metadata": {},
   "source": [
    "1.Evaluating a postfix expression:"
   ]
  },
  {
   "cell_type": "code",
   "execution_count": 11,
   "id": "ea9fba33",
   "metadata": {},
   "outputs": [
    {
     "name": "stdout",
     "output_type": "stream",
     "text": [
      "Enter postfix expresion (separate by space): 2 3 1 * + 9 -\n",
      "Result:  -4\n"
     ]
    }
   ],
   "source": [
    "expresion = str(input(\"Enter postfix expresion (separate by space): \"))\n",
    "exp_list = expresion.split()\n",
    "values = list()\n",
    "for ch in exp_list:\n",
    "    if ch.isdigit():\n",
    "        values.append(int(ch))\n",
    "    else:\n",
    "        right = values.pop()\n",
    "        left = values.pop()\n",
    "        res = eval(str(left) + ch + str(right))\n",
    "        values.append(int(res))\n",
    "print(\"Result: \",values[0])\n",
    "        "
   ]
  },
  {
   "cell_type": "markdown",
   "id": "24df73e0",
   "metadata": {},
   "source": [
    "2.Write a program that reads integers from the user and stores them in a list:"
   ]
  },
  {
   "cell_type": "code",
   "execution_count": 16,
   "id": "dcff3a05",
   "metadata": {},
   "outputs": [
    {
     "name": "stdout",
     "output_type": "stream",
     "text": [
      "If you want to finish, enter 0.\n",
      "Enter integer: 21414124\n",
      "Enter integer: 122\n",
      "Enter integer: 2445\n",
      "Enter integer: 211\n",
      "Enter integer: 2\n",
      "Enter integer: 0\n",
      "Result:\n",
      "2\n",
      "122\n",
      "211\n",
      "2445\n",
      "21414124\n"
     ]
    }
   ],
   "source": [
    "integers = list()\n",
    "\n",
    "print(\"If you want to finish, enter 0.\")\n",
    "\n",
    "while True:\n",
    "    integer = int(input('Enter integer: '))\n",
    "    if integer == 0:\n",
    "        break\n",
    "    integers.append(integer)\n",
    "    \n",
    "integers.sort()\n",
    "\n",
    "print(\"Result:\")\n",
    "\n",
    "for num in integers:\n",
    "    print(num)\n"
   ]
  },
  {
   "cell_type": "markdown",
   "id": "f997d7ae",
   "metadata": {},
   "source": [
    "3.Create a program that reads integers from the user until a blank line is entered."
   ]
  },
  {
   "cell_type": "code",
   "execution_count": 13,
   "id": "18054a9f",
   "metadata": {},
   "outputs": [
    {
     "name": "stdout",
     "output_type": "stream",
     "text": [
      "If you want to finish, enter blank line.\n",
      "Enter integer: 3\n",
      "Enter integer: -4\n",
      "Enter integer: 1\n",
      "Enter integer: 0\n",
      "Enter integer: -1\n",
      "Enter integer: 0\n",
      "Enter integer: -2\n",
      "Enter integer: \n",
      "Result:\n",
      "-4\n",
      "-1\n",
      "-2\n",
      "0\n",
      "0\n",
      "3\n",
      "1\n"
     ]
    }
   ],
   "source": [
    "integers = dict()\n",
    "\n",
    "print(\"If you want to finish, enter blank line.\")\n",
    "\n",
    "while True:\n",
    "    index = len(integers)\n",
    "    integer = str(input('Enter integer: '))\n",
    "    if integer == \"\":\n",
    "        break\n",
    "    integers[index] = int(integer)\n",
    "    \n",
    "def sortByValue(item):\n",
    "    return item[1]\n",
    "def sortByKey(item):\n",
    "    return item[0]\n",
    "\n",
    "print(\"Result:\")\n",
    "sort_value = dict(sorted(integers.items(), key = sortByValue))\n",
    "\n",
    "negative = dict()\n",
    "zero = dict()\n",
    "positive = dict()\n",
    "\n",
    "for key,value in sort_value.items():\n",
    "    if value < 0:\n",
    "        negative[key] = value\n",
    "    elif value == 0:\n",
    "        zero[key] = value\n",
    "    else:\n",
    "        positive[key] = value\n",
    "        \n",
    "sort_negative = dict(sorted(negative.items(), key = sortByKey))\n",
    "sort_positive = dict(sorted(positive.items(), key = sortByKey))\n",
    "\n",
    "result = dict()\n",
    "result.update(sort_negative)\n",
    "result.update(zero)\n",
    "result.update(sort_positive)\n",
    "\n",
    "for value in result.values():\n",
    "    print(value)\n",
    "\n"
   ]
  },
  {
   "cell_type": "markdown",
   "id": "63282e84",
   "metadata": {},
   "source": [
    "4.In this exercise, you will create a program that reads words from the user until the user enters a blank line."
   ]
  },
  {
   "cell_type": "code",
   "execution_count": 2,
   "id": "65710476",
   "metadata": {},
   "outputs": [
    {
     "name": "stdout",
     "output_type": "stream",
     "text": [
      "If you want to finish, enter blank line.\n",
      "Enter word: first\n",
      "Enter word: second\n",
      "Enter word: first\n",
      "Enter word: third\n",
      "Enter word: second\n",
      "Enter word: \n",
      "Result:\n",
      "first\n",
      "second\n",
      "third\n"
     ]
    }
   ],
   "source": [
    "words = list()\n",
    "print(\"If you want to finish, enter blank line.\")\n",
    "\n",
    "while True:\n",
    "    word = str(input('Enter word: '))\n",
    "    if word == \"\":\n",
    "        break\n",
    "    if word not in words:\n",
    "        words.append(word)\n",
    "\n",
    "print(\"Result:\")\n",
    "\n",
    "for word in words:\n",
    "    print(word)\n"
   ]
  },
  {
   "cell_type": "markdown",
   "id": "2d2405a6",
   "metadata": {},
   "source": [
    "5.Implement queue FIFO principle using list and its methods. You can use methods of list , use proper methods to follow FIFO principles."
   ]
  },
  {
   "cell_type": "code",
   "execution_count": 4,
   "id": "02e268cb",
   "metadata": {},
   "outputs": [
    {
     "name": "stdout",
     "output_type": "stream",
     "text": [
      "1\n",
      "2\n"
     ]
    }
   ],
   "source": [
    "items = list()\n",
    "\n",
    "def enqueue(item):\n",
    "    items.append(item)\n",
    "    return\n",
    "def dequeue():\n",
    "    return items.pop(0)\n",
    "\n",
    "enqueue(1)\n",
    "enqueue(2)\n",
    "enqueue(3)\n",
    "\n",
    "print(dequeue())\n",
    "enqueue(5)\n",
    "print(dequeue())"
   ]
  },
  {
   "cell_type": "markdown",
   "id": "2590d08d",
   "metadata": {},
   "source": [
    "6.Implement stack LIFO principle using list and its method. You can use methods of list like pop, append.to solve this problem:"
   ]
  },
  {
   "cell_type": "code",
   "execution_count": 6,
   "id": "294ed40b",
   "metadata": {},
   "outputs": [
    {
     "name": "stdout",
     "output_type": "stream",
     "text": [
      "4\n",
      "5\n",
      "3\n"
     ]
    }
   ],
   "source": [
    "items = list()\n",
    "\n",
    "def push(item):\n",
    "    items.append(item)\n",
    "    return\n",
    "\n",
    "def pop():\n",
    "    return items.pop()\n",
    "\n",
    "push(1)\n",
    "push(2)\n",
    "push(3)\n",
    "push(4)\n",
    "print(pop())\n",
    "push(5)\n",
    "print(pop())\n",
    "print(pop())"
   ]
  },
  {
   "cell_type": "code",
   "execution_count": null,
   "id": "93da51a5",
   "metadata": {},
   "outputs": [],
   "source": []
  }
 ],
 "metadata": {
  "kernelspec": {
   "display_name": "Python 3",
   "language": "python",
   "name": "python3"
  },
  "language_info": {
   "codemirror_mode": {
    "name": "ipython",
    "version": 3
   },
   "file_extension": ".py",
   "mimetype": "text/x-python",
   "name": "python",
   "nbconvert_exporter": "python",
   "pygments_lexer": "ipython3",
   "version": "3.8.2"
  }
 },
 "nbformat": 4,
 "nbformat_minor": 5
}
