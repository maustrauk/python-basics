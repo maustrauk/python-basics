{
 "cells": [
  {
   "cell_type": "markdown",
   "id": "56a81691",
   "metadata": {},
   "source": [
    "1. Inheritance and Polymorphism:"
   ]
  },
  {
   "cell_type": "code",
   "execution_count": 78,
   "id": "1f6337f6",
   "metadata": {},
   "outputs": [],
   "source": [
    "class Person:\n",
    "    def __init__(self, name, address, phone_number, e_mail):\n",
    "        self.name = name\n",
    "        self.address = address\n",
    "        self.phone_number = phone_number\n",
    "        self.e_mail = e_mail\n",
    "    \n",
    "    def __repr__(self):\n",
    "        child_class_name = type(self).__name__.split()[-1]\n",
    "        return f'Class name is: {child_class_name}, Person name is: {self.name}'\n",
    "\n",
    "class Student(Person):\n",
    "    status = [\"freshman\", \"sophomore\", \"junior\", \"senior\"]\n",
    "    def __init__(self, name, address, phone_number, e_mail, status):\n",
    "        super().__init__(name, address, phone_number, e_mail)\n",
    "        self.status = Student.status[Student.status.index(status)]\n",
    "\n",
    "class Employee(Person):\n",
    "    def __init__(self, name, address, phone_number, e_mail, office, salary, date_hired):\n",
    "        super().__init__(name, address, phone_number, e_mail)\n",
    "        self.office = office\n",
    "        self.salary = salary\n",
    "        self.date_hired = date_hired\n",
    "\n",
    "class Staff(Employee):\n",
    "    def __init__(self, name, address, phone_number, e_mail, office, salary, date_hired, title):\n",
    "        super().__init__(name, address, phone_number, e_mail, office, salary, date_hired)\n",
    "        self.title = title\n",
    "\n",
    "class Faculty(Employee):\n",
    "    def __init__(self, name, address, phone_number, e_mail, office, salary, date_hired, rank, office_hours):\n",
    "        super().__init__(name, address, phone_number, e_mail, office, salary, date_hired)\n",
    "        self.rank = rank\n",
    "        self.office_hours = office_hours"
   ]
  },
  {
   "cell_type": "code",
   "execution_count": 82,
   "id": "3d3046e5",
   "metadata": {},
   "outputs": [
    {
     "name": "stdout",
     "output_type": "stream",
     "text": [
      "Class name is: Person, Person name is: Iaroslav\n",
      "Class name is: Student, Person name is: Iaroslav\n",
      "Class name is: Employee, Person name is: Iaroslav\n",
      "Class name is: Staff, Person name is: Iaroslav\n",
      "Class name is: Faculty, Person name is: Iaroslav\n"
     ]
    }
   ],
   "source": [
    "person = Person(\"Iaroslav\", \"King George\", \"111-11111\", \"test@gmail.com\")\n",
    "print(person.__repr__())\n",
    "student = Student(\"Iaroslav\", \"King George\", \"111-11111\", \"test@gmail.com\", \"junior\")\n",
    "print(student.__repr__())\n",
    "employee = Employee(\"Iaroslav\", \"King George\", \"111-11111\", \"test@gmail.com\", \"test_1\", \"50k\", \"today\")\n",
    "print(employee.__repr__())\n",
    "staff = Staff(\"Iaroslav\", \"King George\", \"111-11111\", \"test@gmail.com\", \"test_1\", \"50k\", \"today\", \"me\")\n",
    "print(staff.__repr__())\n",
    "faculty = Faculty(\"Iaroslav\", \"King George\", \"111-11111\", \"test@gmail.com\", \"test_1\", \"50k\", \"today\", \"Boss\", \"weekly\")\n",
    "print(faculty.__repr__())"
   ]
  },
  {
   "cell_type": "markdown",
   "id": "c10f090e",
   "metadata": {},
   "source": [
    "2. Generator:"
   ]
  },
  {
   "cell_type": "code",
   "execution_count": 80,
   "id": "0008db51",
   "metadata": {},
   "outputs": [
    {
     "name": "stdout",
     "output_type": "stream",
     "text": [
      "Number of Employee is 5\n"
     ]
    }
   ],
   "source": [
    "names = [\"Vlad\", \"Dan\", \"Max\", \"Karl\", \"Emanuel\", \"Menni\", \"Daniel\", \"Andrew\",  \"Anton\", \"Alex\", \"Aleksandr\", \"Iryna\", \"Slava\", \"Nadia\"]\n",
    "persons = [Person(name, \"King George\", \"111-11111\", \"test@gmail.com\") for i,name in enumerate(names) if i < 2]\n",
    "students = [Student(name, \"King George\", \"111-11111\", \"test@gmail.com\", \"junior\") for i,name in enumerate(names) if i >= 2 and i < 5]\n",
    "faculties = [Faculty(name, \"King George\", \"111-11111\", \"test@gmail.com\", \"test_1\", \"50k\", \"today\", \"Boss\", \"weekly\") for i,name in enumerate(names) if i >= 5 and i < 7]\n",
    "staffies = [Staff(name, \"King George\", \"111-11111\", \"test@gmail.com\", \"test_1\", \"50k\", \"today\", \"me\") for i,name in enumerate(names) if i >= 7 and i < 9]\n",
    "employees =[Employee(name, \"King George\", \"111-11111\", \"test@gmail.com\", \"test_1\", \"50k\", \"today\") for i,name in enumerate(names) if i >= 9]\n",
    "\n",
    "data ={\"Person\": persons, \"Student\": students, \"Faculty\": faculties, \"Staff\": staffies, \"Employee\": employees}\n",
    "\n",
    "def counter():\n",
    "    num = 0\n",
    "    while True:\n",
    "        num += 1\n",
    "        yield num\n",
    "\n",
    "def get_all(data, key):\n",
    "    count = counter()\n",
    "    res = 0\n",
    "    for i in data[key]:\n",
    "        res = next(count)\n",
    "    print(f'Number of {key} is {res}')\n",
    "\n",
    "get_all(data, \"Employee\")\n",
    "    "
   ]
  },
  {
   "cell_type": "markdown",
   "id": "8d75f66a",
   "metadata": {},
   "source": [
    "3. Create a generator that yields \"n\" random numbers between a low and high number at input:"
   ]
  },
  {
   "cell_type": "code",
   "execution_count": 71,
   "id": "65d6ac40",
   "metadata": {},
   "outputs": [
    {
     "name": "stdout",
     "output_type": "stream",
     "text": [
      "Enter low number: -2\n",
      "Enter high number: 5.3\n",
      "Enter n: 4\n",
      "-0.8006789033777819\n",
      "2.197816013302747\n",
      "-1.3392183649928509\n",
      "0.7951737575165829\n"
     ]
    }
   ],
   "source": [
    "import random\n",
    "\n",
    "def rand_num(high, low):\n",
    "    while True:\n",
    "        yield random.uniform(high, low)\n",
    "\n",
    "low = float(input(\"Enter low number: \"))\n",
    "high = float(input(\"Enter high number: \"))\n",
    "n = int(input(\"Enter n: \"))\n",
    "\n",
    "gen = rand_num(high, low)\n",
    "\n",
    "for i in range(n):\n",
    "    print(next(gen))"
   ]
  },
  {
   "cell_type": "markdown",
   "id": "465784fc",
   "metadata": {},
   "source": [
    "4. Display prime numbers:"
   ]
  },
  {
   "cell_type": "code",
   "execution_count": 67,
   "id": "9a4bb7fc",
   "metadata": {},
   "outputs": [
    {
     "name": "stdout",
     "output_type": "stream",
     "text": [
      "Enter n1: -4\n",
      "Enter n2: 9\n",
      "Generator output:\n",
      "2\n",
      "3\n",
      "5\n",
      "7\n",
      "Iterator output:\n",
      "2\n",
      "3\n",
      "5\n",
      "7\n"
     ]
    }
   ],
   "source": [
    "def inf_seq_gen(start):\n",
    "    num = start\n",
    "    while True:\n",
    "        yield num\n",
    "        num += 1\n",
    "        \n",
    "def prime_checker(n):\n",
    "    if n <= 1:\n",
    "        return False\n",
    "    \n",
    "    for i in range(2, n):\n",
    "        if (n % i == 0):\n",
    "            return False\n",
    "    return True\n",
    "\n",
    "def prime_gen(n1, n2):\n",
    "    print(\"Generator output:\")\n",
    "    gen = inf_seq_gen(n1)\n",
    "    while True:\n",
    "        num = next(gen)\n",
    "        if num > n2:\n",
    "            break\n",
    "        if prime_checker(num):\n",
    "            print(num)\n",
    "            \n",
    "def prime_iter(n1, n2):\n",
    "    print(\"Iterator output:\")\n",
    "   \n",
    "    seq = [num for num in range(2, n2) if prime_checker(num)]\n",
    "    itr = iter(seq)\n",
    "    [print(next(itr)) for i in range(len(seq))]\n",
    "        \n",
    "        \n",
    "n1 = float(input(\"Enter n1: \"))\n",
    "n2 = float(input(\"Enter n2: \"))\n",
    "\n",
    "while(n1 > n2):\n",
    "    print(\"Wrong input\")\n",
    "    n1 = float(input(\"Enter n1: \"))\n",
    "    n2 = float(input(\"Enter n2: \"))\n",
    "\n",
    "\n",
    "prime_gen(int(n1), int(n2))\n",
    "prime_iter(int(n1), int(n2))\n"
   ]
  },
  {
   "cell_type": "code",
   "execution_count": null,
   "id": "510689db",
   "metadata": {},
   "outputs": [],
   "source": []
  }
 ],
 "metadata": {
  "kernelspec": {
   "display_name": "Python 3",
   "language": "python",
   "name": "python3"
  },
  "language_info": {
   "codemirror_mode": {
    "name": "ipython",
    "version": 3
   },
   "file_extension": ".py",
   "mimetype": "text/x-python",
   "name": "python",
   "nbconvert_exporter": "python",
   "pygments_lexer": "ipython3",
   "version": "3.8.2"
  }
 },
 "nbformat": 4,
 "nbformat_minor": 5
}
